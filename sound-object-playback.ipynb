{
 "cells": [
  {
   "cell_type": "markdown",
   "metadata": {
    "deletable": true,
    "editable": true
   },
   "source": [
    "# Sound Object Playback\n",
    "\n",
    "The purpose of this script is to break out some 5-second sound objects from the Metatone touch archive and play them back on a device."
   ]
  },
  {
   "cell_type": "code",
   "execution_count": 107,
   "metadata": {
    "collapsed": false,
    "deletable": true,
    "editable": true
   },
   "outputs": [],
   "source": [
    "#%matplotlib inline\n",
    "from __future__ import print_function\n",
    "import os\n",
    "import time\n",
    "from datetime import timedelta\n",
    "import pandas as pd\n",
    "import numpy as np\n",
    "import matplotlib\n",
    "import matplotlib.pyplot as plt\n",
    "from mpl_toolkits.mplot3d import Axes3D \n",
    "import seaborn as sns\n",
    "import random\n",
    "#from touch_performance_player import TouchPerformancePlayer\n",
    "import OSC\n",
    "import sys\n",
    "sys.path.append(\"./MetatoneClassifier/classifier/\")\n",
    "import metatone_classifier\n",
    "import generate_posthoc_gesture_score\n",
    "import pickle\n",
    "\n",
    "def clean_sound_object(frame):\n",
    "    \"\"\"Cleans up sound object frames by removing unneeded \n",
    "        columns and changing times to differences.\"\"\"\n",
    "    first_time = frame.index[0].to_pydatetime()\n",
    "    output = frame[['x_pos','y_pos','velocity']]\n",
    "    output['time'] = output.index\n",
    "    output.time = (output.time - first_time).apply(timedelta.total_seconds)\n",
    "    output.time = output.time.fillna(0)\n",
    "    output = output.rename(columns={'x_pos': 'x', 'y_pos': 'y', 'velocity': 'velocity', 'time': 'time'})\n",
    "    return output\n",
    "\n",
    "def five_second_frame(row, frame):\n",
    "    \"\"\"\n",
    "    Returns a dataframe of five seconds length before \"time\".\n",
    "    \"\"\"\n",
    "    end_time = row.name\n",
    "    frame = frame.between_time((end_time + timedelta(seconds=-5)).time(), end_time.time())\n",
    "    if frame.empty:\n",
    "        return np.nan\n",
    "    return frame\n",
    "\n",
    "def add_gestures_to_objects_series(objects_series):\n",
    "    \"\"\"Classifies gestures from a series of sound-object frames.\"\"\"\n",
    "    feature_vectors = objects_series.apply(generate_posthoc_gesture_score.feature_vector_from_frame).apply(pd.Series)\n",
    "    out = pd.DataFrame({'objects':objects_series})\n",
    "    feature_vectors = feature_vectors[metatone_classifier.FEATURE_VECTOR_COLUMNS]\n",
    "    preds = generate_posthoc_gesture_score.CLASSIFIER.classifier.predict(feature_vectors)\n",
    "    out['gestures'] = preds\n",
    "    return out\n",
    "\n",
    "def convert_log_frame_to_classified_sound_objects(log):\n",
    "    \"\"\"Converts a touch-log into a dataframe of sound-objects and classified gestures.\"\"\"\n",
    "    sound_object_frames = []\n",
    "    for n in log.device_id.unique():\n",
    "        log_frame = log[log.device_id == n]\n",
    "        times = pd.DataFrame(log_frame.index,index=log_frame.index).resample('1s').count()\n",
    "        sound_objects = times.apply(five_second_frame, axis=1, frame=log_frame).dropna()\n",
    "        sound_objects = add_gestures_to_objects_series(sound_objects)\n",
    "        print(\"Classified\",len(sound_objects.index),\"sound objects.\")\n",
    "        sound_object_frames.append(sound_objects)\n",
    "    out = pd.concat(sound_object_frames)\n",
    "    print(\"Converting touch logs to sound_object format\")\n",
    "    out.objects = out.objects.apply(clean_sound_object)\n",
    "    print(\"Total sound objects classified is:\",len(out.index))\n",
    "    return out"
   ]
  },
  {
   "cell_type": "markdown",
   "metadata": {
    "deletable": true,
    "editable": true
   },
   "source": [
    "### Load up data\n",
    "\n",
    "- Loads metatone logs.\n",
    "- Checks if output directory exists, otherwise creates it."
   ]
  },
  {
   "cell_type": "code",
   "execution_count": 2,
   "metadata": {
    "collapsed": false,
    "deletable": true,
    "editable": true
   },
   "outputs": [
    {
     "name": "stdout",
     "output_type": "stream",
     "text": [
      "Loading all the frames.\n",
      "Done Loading 163 logs.\n"
     ]
    }
   ],
   "source": [
    "log_files = []\n",
    "performances = []\n",
    "\n",
    "output_directory = \"individual-perfs-metatone-format/\"\n",
    "output_fileending = \"-indperf.csv\"\n",
    "\n",
    "if not os.path.exists(output_directory):\n",
    "    print(\"Creating Individual Perf Directory\")\n",
    "    os.makedirs(output_directory)\n",
    "\n",
    "for local_file in os.listdir(\"data\"):\n",
    "    if local_file.endswith(\"-touches.csv\"):\n",
    "        log_files.append(\"data/\" + local_file)\n",
    "# for log in log_files:\n",
    "    # do some stuff\n",
    "    \n",
    "log_frames = []\n",
    "print(\"Loading all the frames.\")\n",
    "for log in log_files:\n",
    "    log_frames.append(pd.DataFrame.from_csv(log,parse_dates=True,header=0))\n",
    "print(\"Done Loading\", len(log_frames), \"logs.\")"
   ]
  },
  {
   "cell_type": "code",
   "execution_count": 103,
   "metadata": {
    "collapsed": false
   },
   "outputs": [],
   "source": [
    "\"\"\"Class for playing back sound objects on metatone apps.\"\"\"\n",
    "import OSC\n",
    "import random\n",
    "import pandas as pd\n",
    "from threading import Timer\n",
    "\n",
    "PLAYBACK_TOUCH_PATTERN = \"/metatone/playback/touch\"\n",
    "PLAYBACK_GESTURE_PATTERN = \"/metatone/playback/gesture\"\n",
    "\n",
    "class TouchPerformancePlayer:\n",
    "    \"\"\"Sends sound objects to an iPad for concatenative performance.\"\"\"\n",
    "\n",
    "    def __init__(self, name, address, port):\n",
    "        self.client = OSC.OSCClient()\n",
    "        self.performers = {}\n",
    "        self.name = name\n",
    "        self.address = (address,port)\n",
    "        self.addPerformer(name,address,port)\n",
    "        self.current_gesture = 0\n",
    "        self.sound_objects = pd.DataFrame()\n",
    "        self.timers = []\n",
    "        self.empty_object = pd.DataFrame(columns = [\"x\",\"y\",\"velocity\",\"time\"])\n",
    "        self.available_gestures = [0]\n",
    "        self.playing = False;\n",
    "        print(\"Initialising a performance player for\", name, \"at\", address + \":\" + str(port))\n",
    "        \n",
    "    def setPerformances(self,sound_objects):\n",
    "        \"\"\"Set a dataframe of soundobjects for performances. DataFrame should have two column: objects and gestures\"\"\"\n",
    "        self.sound_objects = sound_objects\n",
    "        print(\"Setting up new sound_object dataframe:\")\n",
    "        print(self.sound_objects.gestures.value_counts())\n",
    "        self.available_gestures = self.sound_objects.gestures.unique().tolist()\n",
    "        self.available_gestures.append(0)\n",
    "        print(\"Available Gestures:\", self.available_gestures)\n",
    "\n",
    "    def addPerformer(self, name, address, port):\n",
    "        \"\"\"Adds a performer's address and port to the list\"\"\"\n",
    "        self.performers[name] = (address, port)\n",
    "        \n",
    "    def startPlaying(self):\n",
    "        \"\"\"Start sending sound objects to the performer.\"\"\"\n",
    "        if not self.playing:\n",
    "            print(\"Starting Playback with gesture:\", self.current_gesture)\n",
    "            self.continuePlaying();\n",
    "            \n",
    "    def stopPlaying(self):\n",
    "        \"\"\"Stop sending sound objects to the performer and stop all timers.\"\"\"\n",
    "        if self.playing:\n",
    "            print(\"Stopping playback and cancelling timers for:\", self.name)\n",
    "            self.cancelTimers()\n",
    "            self.playing = False;\n",
    "            self.current_gesture = 0;\n",
    "        \n",
    "    def continuePlaying(self):\n",
    "        \"\"\"Continue playing the gesture previously set.\"\"\"\n",
    "        print(\"Playing perf-object with gesture:\", self.current_gesture, \"on:\", self.name)\n",
    "        self.scheduleSoundObject(self.current_gesture)\n",
    "        \n",
    "    def updateGesture(self,new_gesture):\n",
    "        \"\"\"Update the gesture and start playing if it's different from before.\"\"\"\n",
    "        if self.current_gesture != new_gesture:\n",
    "            # start playing new gesture immediately.\n",
    "            self.current_gesture = new_gesture\n",
    "            self.scheduleSoundObject(self.current_gesture)\n",
    "    \n",
    "    def cancelTimers(self):\n",
    "        \"\"\"Stop all current timers to send new performance objects.\"\"\"\n",
    "        for t in self.timers:\n",
    "            t.cancel()\n",
    "        self.timers = []\n",
    "    \n",
    "    def sendTouch(self, performer, x, y, velocity):\n",
    "        \"\"\"Sends an OSC message to trigger a touch sound.\"\"\"\n",
    "        address = self.performers[performer]\n",
    "        self.client.sendto(OSC.OSCMessage(PLAYBACK_TOUCH_PATTERN, [performer,x, y, velocity]), address)\n",
    "        \n",
    "    def scheduleSoundObject(self,gesture):\n",
    "        \"\"\"Schedule a random sound object from a given gesture.\"\"\"\n",
    "        if gesture not in self.available_gestures:\n",
    "            print(\"Sound object for gesture\",gesture,\"is not available.\")\n",
    "            return\n",
    "        if gesture == 0:\n",
    "            perf = self.empty_object\n",
    "        else:\n",
    "            perf = self.sound_objects[self.sound_objects.gestures == gesture].objects.sample(1)[0]\n",
    "        self.schedulePerformance(perf,self.name)\n",
    "        t = Timer(5.0,self.continuePlaying)\n",
    "        self.timers.append(t)\n",
    "        t.start()\n",
    "\n",
    "    def schedulePerformance(self, perf, performer = \"local\"):\n",
    "        \"\"\"Schedule performance of a tiny performance dataframe.\"\"\"\n",
    "        self.cancelTimers()\n",
    "        self.playing = True;\n",
    "        if (perf.empty): # Returns if the perf is empty.\n",
    "            return\n",
    "        for row in perf.iterrows():\n",
    "            self.timers.append(Timer(row[1]['time'],self.sendTouch,args=[performer,row[1]['x'],row[1]['y'],row[1]['velocity']]))\n",
    "        for t in self.timers:    \n",
    "            t.start()"
   ]
  },
  {
   "cell_type": "markdown",
   "metadata": {},
   "source": [
    "## Loading gesture to sound-object data"
   ]
  },
  {
   "cell_type": "code",
   "execution_count": 111,
   "metadata": {
    "collapsed": false
   },
   "outputs": [
    {
     "name": "stdout",
     "output_type": "stream",
     "text": [
      "### Classified sound objects successfully loaded.  ###\n"
     ]
    }
   ],
   "source": [
    "# Load or generate the sound_object to classified object frame and save as a pickle.\n",
    "gesture_to_object_filename = \"./gesture_to_sound_object_dataframe.pickle\"\n",
    "try:\n",
    "    pickle_file = open(gesture_to_object_filename, \"rb\")\n",
    "    cla_frame = pickle.load(pickle_file)\n",
    "    pickle_file.close()\n",
    "    print(\"### Classified sound objects successfully loaded.  ###\")\n",
    "except:\n",
    "    print(\"### Error loading sound objects, classifying again.\")\n",
    "    cla_frame = convert_log_frame_to_classified_sound_objects(log_frames[120])\n",
    "    with open(gesture_to_object_filename, 'wb') as f:\n",
    "        pickle.dump(cla_frame, f, pickle.HIGHEST_PROTOCOL)\n",
    "    print(\"### Classified sound objects successfully generated and saved.  ###\")"
   ]
  },
  {
   "cell_type": "markdown",
   "metadata": {},
   "source": [
    "## Test out the sound_object playback"
   ]
  },
  {
   "cell_type": "code",
   "execution_count": 105,
   "metadata": {
    "collapsed": false
   },
   "outputs": [
    {
     "name": "stdout",
     "output_type": "stream",
     "text": [
      "Initialising a performance player for charles at 192.168.0.36:51200\n",
      "Setting up new sound_object dataframe:\n",
      "2    591\n",
      "4    385\n",
      "3    381\n",
      "7    223\n",
      "8    209\n",
      "1    188\n",
      "6     29\n",
      "5     21\n",
      "Name: gestures, dtype: int64\n",
      "Available Gestures: [8, 7, 4, 3, 1, 2, 5, 6, 0]\n",
      "Starting Playback with gesture: 0\n",
      "Playing perf-object with gesture: 0 on: charles\n",
      "Playing perf-object with gesture: 0 on: charles\n"
     ]
    }
   ],
   "source": [
    "## When we get home, make this work.\n",
    "## Need to find out address of iPads manually using bonjour browser.\n",
    "\n",
    "player = TouchPerformancePlayer('charles','192.168.0.36',51200)\n",
    "player.setPerformances(cla_frame)\n",
    "player.startPlaying()"
   ]
  },
  {
   "cell_type": "code",
   "execution_count": 109,
   "metadata": {
    "collapsed": false
   },
   "outputs": [
    {
     "name": "stdout",
     "output_type": "stream",
     "text": [
      "Stopping playback and cancelling timers for: charles\n"
     ]
    }
   ],
   "source": [
    "player.updateGesture(12)\n",
    "player.stopPlaying()"
   ]
  },
  {
   "cell_type": "markdown",
   "metadata": {
    "deletable": true,
    "editable": true
   },
   "source": []
  },
  {
   "cell_type": "code",
   "execution_count": null,
   "metadata": {
    "collapsed": false,
    "deletable": true,
    "editable": true,
    "scrolled": true
   },
   "outputs": [],
   "source": []
  },
  {
   "cell_type": "markdown",
   "metadata": {
    "collapsed": false,
    "deletable": true,
    "editable": true
   },
   "source": []
  },
  {
   "cell_type": "code",
   "execution_count": null,
   "metadata": {
    "collapsed": false,
    "deletable": true,
    "editable": true
   },
   "outputs": [],
   "source": []
  }
 ],
 "metadata": {
  "kernelspec": {
   "display_name": "Python 2",
   "language": "python",
   "name": "python2"
  },
  "language_info": {
   "codemirror_mode": {
    "name": "ipython",
    "version": 2
   },
   "file_extension": ".py",
   "mimetype": "text/x-python",
   "name": "python",
   "nbconvert_exporter": "python",
   "pygments_lexer": "ipython2",
   "version": "2.7.13"
  }
 },
 "nbformat": 4,
 "nbformat_minor": 2
}

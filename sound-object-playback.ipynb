{
 "cells": [
  {
   "cell_type": "markdown",
   "metadata": {
    "deletable": true,
    "editable": true
   },
   "source": [
    "# Sound Object Playback\n",
    "\n",
    "The purpose of this script is to break out some 5-second sound objects from the Metatone touch archive and play them back on a device."
   ]
  },
  {
   "cell_type": "code",
   "execution_count": 1,
   "metadata": {
    "collapsed": false,
    "deletable": true,
    "editable": true
   },
   "outputs": [
    {
     "name": "stdout",
     "output_type": "stream",
     "text": [
      "### Loading Gesture Classifier.           ###\n",
      "### Classifier file successfully loaded.  ###\n"
     ]
    }
   ],
   "source": [
    "#%matplotlib inline\n",
    "from __future__ import print_function\n",
    "import os\n",
    "import time\n",
    "from datetime import timedelta\n",
    "import pandas as pd\n",
    "import numpy as np\n",
    "import matplotlib\n",
    "import matplotlib.pyplot as plt\n",
    "from mpl_toolkits.mplot3d import Axes3D \n",
    "import seaborn as sns\n",
    "import random\n",
    "from touch_performance_player import TouchPerformancePlayer\n",
    "import OSC\n",
    "import sys\n",
    "sys.path.append(\"./MetatoneClassifier/classifier/\")\n",
    "import metatone_classifier\n",
    "import generate_posthoc_gesture_score\n",
    "import pickle\n",
    "\n",
    "def clean_sound_object(frame):\n",
    "    \"\"\"Cleans up sound object frames by removing unneeded \n",
    "        columns and changing times to differences.\"\"\"\n",
    "    first_time = frame.index[0].to_pydatetime()\n",
    "    output = frame[['x_pos','y_pos','velocity']]\n",
    "    output['time'] = output.index\n",
    "    output.time = (output.time - first_time).apply(timedelta.total_seconds)\n",
    "    output.time = output.time.fillna(0)\n",
    "    output = output.rename(columns={'x_pos': 'x', 'y_pos': 'y', 'velocity': 'velocity', 'time': 'time'})\n",
    "    return output\n",
    "\n",
    "def five_second_frame(row, frame):\n",
    "    \"\"\"\n",
    "    Returns a dataframe of five seconds length before \"time\".\n",
    "    \"\"\"\n",
    "    end_time = row.name\n",
    "    frame = frame.between_time((end_time + timedelta(seconds=-5)).time(), end_time.time())\n",
    "    if frame.empty:\n",
    "        return np.nan\n",
    "    return frame\n",
    "\n",
    "def add_gestures_to_objects_series(objects_series):\n",
    "    \"\"\"Classifies gestures from a series of sound-object frames.\"\"\"\n",
    "    feature_vectors = objects_series.apply(generate_posthoc_gesture_score.feature_vector_from_frame).apply(pd.Series)\n",
    "    out = pd.DataFrame({'objects':objects_series})\n",
    "    feature_vectors = feature_vectors[metatone_classifier.FEATURE_VECTOR_COLUMNS]\n",
    "    preds = generate_posthoc_gesture_score.CLASSIFIER.classifier.predict(feature_vectors)\n",
    "    out['gestures'] = preds\n",
    "    return out\n",
    "\n",
    "def convert_log_frame_to_classified_sound_objects(log):\n",
    "    \"\"\"Converts a touch-log into a dataframe of sound-objects and classified gestures.\"\"\"\n",
    "    sound_object_frames = []\n",
    "    for n in log.device_id.unique():\n",
    "        log_frame = log[log.device_id == n]\n",
    "        times = pd.DataFrame(log_frame.index,index=log_frame.index).resample('1s').count()\n",
    "        sound_objects = times.apply(five_second_frame, axis=1, frame=log_frame).dropna()\n",
    "        sound_objects = add_gestures_to_objects_series(sound_objects)\n",
    "        print(\"Classified\",len(sound_objects.index),\"sound objects.\")\n",
    "        sound_object_frames.append(sound_objects)\n",
    "    out = pd.concat(sound_object_frames)\n",
    "    print(\"Converting touch logs to sound_object format\")\n",
    "    out.objects = out.objects.apply(clean_sound_object)\n",
    "    print(\"Total sound objects classified is:\",len(out.index))\n",
    "    return out"
   ]
  },
  {
   "cell_type": "markdown",
   "metadata": {
    "deletable": true,
    "editable": true
   },
   "source": [
    "### Load up data\n",
    "\n",
    "- Loads metatone logs.\n",
    "- Checks if output directory exists, otherwise creates it."
   ]
  },
  {
   "cell_type": "code",
   "execution_count": 2,
   "metadata": {
    "collapsed": false,
    "deletable": true,
    "editable": true
   },
   "outputs": [
    {
     "name": "stdout",
     "output_type": "stream",
     "text": [
      "Loading all the frames.\n",
      "Done Loading 163 logs.\n"
     ]
    }
   ],
   "source": [
    "log_files = []\n",
    "performances = []\n",
    "\n",
    "output_directory = \"individual-perfs-metatone-format/\"\n",
    "output_fileending = \"-indperf.csv\"\n",
    "\n",
    "if not os.path.exists(output_directory):\n",
    "    print(\"Creating Individual Perf Directory\")\n",
    "    os.makedirs(output_directory)\n",
    "\n",
    "for local_file in os.listdir(\"data\"):\n",
    "    if local_file.endswith(\"-touches.csv\"):\n",
    "        log_files.append(\"data/\" + local_file)\n",
    "# for log in log_files:\n",
    "    # do some stuff\n",
    "    \n",
    "log_frames = []\n",
    "print(\"Loading all the frames.\")\n",
    "for log in log_files:\n",
    "    log_frames.append(pd.DataFrame.from_csv(log,parse_dates=True,header=0))\n",
    "print(\"Done Loading\", len(log_frames), \"logs.\")"
   ]
  },
  {
   "cell_type": "markdown",
   "metadata": {
    "deletable": true,
    "editable": true
   },
   "source": [
    "## Loading gesture to sound-object data"
   ]
  },
  {
   "cell_type": "code",
   "execution_count": 3,
   "metadata": {
    "collapsed": false,
    "deletable": true,
    "editable": true
   },
   "outputs": [
    {
     "name": "stdout",
     "output_type": "stream",
     "text": [
      "### Error loading sound objects, classifying again.\n",
      "Classified 521 sound objects.\n",
      "Classified 523 sound objects.\n",
      "Classified 515 sound objects.\n",
      "Classified 468 sound objects.\n",
      "Converting touch logs to sound_object format\n",
      "Total sound objects classified is: 2027\n",
      "### Classified sound objects successfully generated and saved.  ###\n"
     ]
    }
   ],
   "source": [
    "# Load or generate the sound_object to classified object frame and save as a pickle.\n",
    "gesture_to_object_filename = \"./gesture_to_sound_object_dataframe.pickle\"\n",
    "try:\n",
    "    pickle_file = open(gesture_to_object_filename, \"rb\")\n",
    "    cla_frame = pickle.load(pickle_file)\n",
    "    pickle_file.close()\n",
    "    print(\"### Classified sound objects successfully loaded.  ###\")\n",
    "except:\n",
    "    print(\"### Error loading sound objects, classifying again.\")\n",
    "    cla_frame = convert_log_frame_to_classified_sound_objects(log_frames[120])\n",
    "    with open(gesture_to_object_filename, 'wb') as f:\n",
    "        pickle.dump(cla_frame, f, pickle.HIGHEST_PROTOCOL)\n",
    "    print(\"### Classified sound objects successfully generated and saved.  ###\")"
   ]
  },
  {
   "cell_type": "markdown",
   "metadata": {
    "deletable": true,
    "editable": true
   },
   "source": [
    "## Test out the sound_object playback\n",
    "\n",
    "### Setup and start playing"
   ]
  },
  {
   "cell_type": "code",
   "execution_count": 4,
   "metadata": {
    "collapsed": false,
    "deletable": true,
    "editable": true
   },
   "outputs": [
    {
     "name": "stdout",
     "output_type": "stream",
     "text": [
      "('Initialising a performance player for', 'charles', 'at', '192.168.0.36:51200')\n",
      "Setting up new sound_object dataframe:\n",
      "2    591\n",
      "4    385\n",
      "3    381\n",
      "7    223\n",
      "8    209\n",
      "1    188\n",
      "6     29\n",
      "5     21\n",
      "Name: gestures, dtype: int64\n",
      "('Available Gestures:', [8, 7, 4, 3, 1, 2, 5, 6, 0])\n",
      "('Starting Playback with gesture:', 0)\n",
      "('Playing perf-object with gesture:', 0, 'on:', 'charles')\n",
      "('Playing perf-object with gesture:', 0, 'on:', 'charles')\n",
      "('Playing perf-object with gesture:', 0, 'on:', 'charles')\n"
     ]
    }
   ],
   "source": [
    "## When we get home, make this work.\n",
    "## Need to find out address of iPads manually using bonjour browser.\n",
    "\n",
    "player = TouchPerformancePlayer('charles','192.168.0.36',51200)\n",
    "player.setPerformances(cla_frame)\n",
    "player.startPlaying()"
   ]
  },
  {
   "cell_type": "markdown",
   "metadata": {
    "deletable": true,
    "editable": true
   },
   "source": [
    "### Update Gesture to send"
   ]
  },
  {
   "cell_type": "code",
   "execution_count": 10,
   "metadata": {
    "collapsed": false,
    "deletable": true,
    "editable": true
   },
   "outputs": [
    {
     "name": "stdout",
     "output_type": "stream",
     "text": [
      "('Playing perf-object with gesture:', 4, 'on:', 'charles')\n"
     ]
    }
   ],
   "source": [
    "player.updateGesture(4)"
   ]
  },
  {
   "cell_type": "code",
   "execution_count": 18,
   "metadata": {
    "collapsed": false,
    "deletable": true,
    "editable": true
   },
   "outputs": [
    {
     "name": "stdout",
     "output_type": "stream",
     "text": [
      "<enumerate object at 0x11338a190>\n"
     ]
    }
   ],
   "source": [
    "p = {'a':1}\n",
    "\n",
    "x = ['a','b','c','d']\n",
    "enumerate(x)"
   ]
  },
  {
   "cell_type": "code",
   "execution_count": null,
   "metadata": {
    "collapsed": true,
    "deletable": true,
    "editable": true
   },
   "outputs": [],
   "source": []
  },
  {
   "cell_type": "markdown",
   "metadata": {
    "deletable": true,
    "editable": true
   },
   "source": [
    "### Stop playing"
   ]
  },
  {
   "cell_type": "code",
   "execution_count": 11,
   "metadata": {
    "collapsed": false,
    "deletable": true,
    "editable": true,
    "scrolled": true
   },
   "outputs": [
    {
     "name": "stdout",
     "output_type": "stream",
     "text": [
      "('Stopping playback and cancelling timers for:', 'charles')\n"
     ]
    }
   ],
   "source": [
    "player.stopPlaying()"
   ]
  }
 ],
 "metadata": {
  "kernelspec": {
   "display_name": "Python 2",
   "language": "python",
   "name": "python2"
  },
  "language_info": {
   "codemirror_mode": {
    "name": "ipython",
    "version": 2
   },
   "file_extension": ".py",
   "mimetype": "text/x-python",
   "name": "python",
   "nbconvert_exporter": "python",
   "pygments_lexer": "ipython2",
   "version": "2.7.13"
  }
 },
 "nbformat": 4,
 "nbformat_minor": 2
}

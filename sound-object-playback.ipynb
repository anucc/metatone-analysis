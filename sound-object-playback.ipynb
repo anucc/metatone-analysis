{
 "cells": [
  {
   "cell_type": "markdown",
   "metadata": {
    "deletable": true,
    "editable": true
   },
   "source": [
    "# Sound Object Playback\n",
    "\n",
    "The purpose of this script is to break out some 5-second sound objects from the Metatone touch archive and play them back on a device."
   ]
  },
  {
   "cell_type": "code",
   "execution_count": 1,
   "metadata": {
    "collapsed": false,
    "deletable": true,
    "editable": true
   },
   "outputs": [],
   "source": [
    "#%matplotlib inline\n",
    "from __future__ import print_function\n",
    "import os\n",
    "import time\n",
    "from datetime import timedelta\n",
    "import pandas as pd\n",
    "import numpy as np\n",
    "import matplotlib\n",
    "import matplotlib.pyplot as plt\n",
    "from mpl_toolkits.mplot3d import Axes3D \n",
    "import seaborn as sns\n",
    "import random\n",
    "import OSC\n",
    "\n",
    "def clean_sound_object(frame):\n",
    "    \"\"\"Cleans up sound object frames by removing unneeded \n",
    "        columns and changing times to differences.\"\"\"\n",
    "    first_time = frame.index[0].to_pydatetime()\n",
    "    output = frame[['x_pos','y_pos','velocity']]\n",
    "    output['time'] = output.index\n",
    "    output.time = (output.time - first_time).apply(timedelta.total_seconds)\n",
    "    # output.time = output.time.diff() # adding \n",
    "    output.time = output.time.fillna(0)\n",
    "    output = output.rename(columns={'x_pos': 'x', 'y_pos': 'y', 'velocity': 'velocity', 'time': 'time'})\n",
    "    return output"
   ]
  },
  {
   "cell_type": "markdown",
   "metadata": {
    "deletable": true,
    "editable": true
   },
   "source": [
    "### Load up data\n",
    "\n",
    "- Loads metatone logs.\n",
    "- Checks if output directory exists, otherwise creates it."
   ]
  },
  {
   "cell_type": "code",
   "execution_count": 2,
   "metadata": {
    "collapsed": false,
    "deletable": true,
    "editable": true
   },
   "outputs": [
    {
     "name": "stdout",
     "output_type": "stream",
     "text": [
      "Loading all the frames.\n",
      "Done Loading 163 logs.\n"
     ]
    }
   ],
   "source": [
    "log_files = []\n",
    "performances = []\n",
    "\n",
    "output_directory = \"individual-perfs-metatone-format/\"\n",
    "output_fileending = \"-indperf.csv\"\n",
    "\n",
    "if not os.path.exists(output_directory):\n",
    "    print(\"Creating Individual Perf Directory\")\n",
    "    os.makedirs(output_directory)\n",
    "\n",
    "for local_file in os.listdir(\"data\"):\n",
    "    if local_file.endswith(\"-touches.csv\"):\n",
    "        log_files.append(\"data/\" + local_file)\n",
    "# for log in log_files:\n",
    "    # do some stuff\n",
    "    \n",
    "log_frames = []\n",
    "print(\"Loading all the frames.\")\n",
    "for log in log_files:\n",
    "    log_frames.append(pd.DataFrame.from_csv(log,parse_dates=True,header=0))\n",
    "print(\"Done Loading\", len(log_frames), \"logs.\")"
   ]
  },
  {
   "cell_type": "code",
   "execution_count": 8,
   "metadata": {
    "collapsed": true
   },
   "outputs": [],
   "source": [
    "import OSC\n",
    "import random\n",
    "from threading import Timer\n",
    "\n",
    "PLAYBACK_TOUCH_PATTERN = \"/metatone/playback/touch\"\n",
    "PLAYBACK_GESTURE_PATTERN = \"/metatone/playback/gesture\"\n",
    "\n",
    "class TouchPerformancePlayer:\n",
    "\n",
    "\tdef __init__(self):\n",
    "\t\tself.client = OSC.OSCClient()\n",
    "\t\tself.performers = {}\n",
    "\t\tself.local_address = (\"localhost\",5000)\n",
    "\t\tself.addPerformer(\"local\",\"localhost\",5000)\n",
    "\n",
    "\tdef addPerformer(self, name, address, port):\n",
    "\t\t\"\"\"Adds a performer's address and port to the list\"\"\"\n",
    "\t\tself.performers[name] = (address, port)\n",
    "\n",
    "\tdef setSynth(self, instrument = \"strings\"):\n",
    "\t    \"\"\"Sends an OSC message to set the synth instrument.\"\"\"\n",
    "\t    self.client.sendto(OSC.OSCMessage(\"/inst\", [instrument]),address)\n",
    "\n",
    "\tdef sendTouch(self, performer, x, y, velocity):\n",
    "\t    \"\"\"Sends an OSC message to trigger a touch sound.\"\"\"\n",
    "\t    address = self.performers[performer]\n",
    "\t    self.client.sendto(OSC.OSCMessage(PLAYBACK_TOUCH_PATTERN, [performer,x, y, velocity]), address)\n",
    "\n",
    "\tdef playPerformance(self, perf, performer = \"local\"):\n",
    "\t\t\"\"\"Schedule performance of a tiny performance dataframe.\"\"\"\n",
    "\t\tfor row in perf.iterrows():\n",
    "\t\t\tTimer(row[1]['time'],self.sendTouch,args=[performer,row[1]['x'],row[1]['y'],row[1]['velocity']]).start()\n"
   ]
  },
  {
   "cell_type": "code",
   "execution_count": 11,
   "metadata": {
    "collapsed": false
   },
   "outputs": [],
   "source": [
    "#from touch_performance_player import TouchPerformancePlayer\n",
    "\n",
    "player = TouchPerformancePlayer()\n",
    "\n",
    "log = log_frames[12]\n",
    "log = log[log.device_id == 'charles']\n",
    "perf = clean_sound_object(log)[:1000]\n",
    "\n",
    "player.addPerformer('charles','192.168.0.36',51200)\n",
    "\n",
    "#player.sendTouch('charles',283.5,497.5,0)\n",
    "\n",
    "#perf\n",
    "player.playPerformance(perf,'charles')\n"
   ]
  },
  {
   "cell_type": "markdown",
   "metadata": {
    "deletable": true,
    "editable": true
   },
   "source": [
    "# Process touch logs\n",
    "\n",
    "- Divide each touch log by performer\n",
    "- Convert each log to tiny performance format (time as float, x, y, moving)\n",
    "- Save each log individually (currently commented)\n",
    "- Concatenate all logs into one\n",
    "- Save as a big log file (177MB - 4.3M touches)\n",
    "\n",
    "### Problems\n",
    "\n",
    "- A small number of logs are in y,x format (rotated), so some x,y values end up less than 0 or more than 1.\n",
    "- Velocity is dropped in the interest of simplicity.\n",
    "- Some pauses are greater than 5 seconds and should really start again as zero.\n",
    "- The last two problems are kicked down the road to the next processing script.\n"
   ]
  },
  {
   "cell_type": "code",
   "execution_count": 51,
   "metadata": {
    "collapsed": false,
    "deletable": true,
    "editable": true,
    "scrolled": true
   },
   "outputs": [
    {
     "name": "stdout",
     "output_type": "stream",
     "text": [
      "Dividing all performances by player and converting to tiny performance format.\n",
      "\n",
      "Processed 163 performances.\n",
      "There were 548 performers in total.\n",
      "Total touches recorded was: 4298418\n",
      "Now saving a big file with all performances concatenated.\n",
      "Done.\n"
     ]
    }
   ],
   "source": [
    "\n",
    "\n",
    "total_touches = 0\n",
    "total_performances = 0\n",
    "total_performers = 0\n",
    "all_individual_tiny_perfs = []\n",
    "\n",
    "print(\"Dividing all performances by player and converting to tiny performance format.\")\n",
    "\n",
    "for log in log_frames:\n",
    "    total_performances += 1\n",
    "    for n in log.device_id.unique():\n",
    "        total_performers += 1\n",
    "        l = log[log.device_id == n]\n",
    "        individual_log_title = l.index[0].to_pydatetime().strftime(\"%Y-%m-%d-%H-%M-%S\")\n",
    "        individual_log_title += \"-\" + n\n",
    "        l = clean_sound_object(l)\n",
    "        l = l.set_index('time')\n",
    "        total_touches += l.x.count() # Add to total touches processed\n",
    "        l.to_csv(output_directory + individual_log_title + output_fileending)\n",
    "        all_individual_tiny_perfs.append(l)\n",
    "                \n",
    "print()\n",
    "print(\"Processed\", total_performances, \"performances.\")\n",
    "print(\"There were\", total_performers, \"performers in total.\")\n",
    "print(\"Total touches recorded was:\", total_touches)\n",
    "\n",
    "print(\"Now saving a big file with all performances concatenated.\")\n",
    "all_individual_tiny_perfs = pd.concat(all_individual_tiny_perfs)\n",
    "all_individual_tiny_perfs.to_csv(\"metatone_corpus_touches.csv\")\n",
    "print(\"Done.\")\n",
    "\n"
   ]
  },
  {
   "cell_type": "markdown",
   "metadata": {
    "collapsed": false,
    "deletable": true,
    "editable": true
   },
   "source": [
    "### Unused Functions and Ideas"
   ]
  },
  {
   "cell_type": "code",
   "execution_count": 52,
   "metadata": {
    "collapsed": false,
    "deletable": true,
    "editable": true
   },
   "outputs": [],
   "source": [
    "def five_second_frame(row, frame):\n",
    "    \"\"\"\n",
    "    Returns a dataframe of five seconds length before \"time\".\n",
    "    \"\"\"\n",
    "    end_time = row.name\n",
    "    frame = frame.between_time((end_time + timedelta(seconds=-5)).time(), end_time.time())\n",
    "    if frame.empty:\n",
    "        return np.nan\n",
    "    return frame\n",
    "\n",
    "def split_and_classify_metatone_log(log_frame):\n",
    "    return [],[]\n",
    "\n",
    "#log_frame = pd.DataFrame.from_csv(a,parse_dates=True,header=0)\n",
    "#log_frame[\"moving\"] = log_frame.velocity/log_frame.velocity\n",
    "#log_frame.moving = log_frame.moving.fillna(0)\n",
    "#times = pd.DataFrame(log_frame.index,index=log_frame.index).resample('1s', how='count')\n",
    "#sound_object_frames = pd.DataFrame(log_frame.index,index=log_frame.index)\n",
    "#times[\"sound_object_frames\"] = times.apply(five_second_frame, axis=1, frame=log_frame)\n",
    "\n",
    "#for performer in log_frame.device_id.unique():\n",
    "#    sound_object_frames[performer] = times.apply(five_second_frame, axis=1, frame=log_frame, name=performer)\n",
    "\n",
    "#out = times.apply(five_second_frame, axis=1, frame=log_frame, name='charles')\n",
    "\n",
    "# 1. Split via performer\n",
    "# 2. Split into rolling five second segments (should be a list)\n",
    "# 3. Produce a feature vector and classify gesture for each segment (record separately)\n",
    "# 4. Calculate time and moving columns\n",
    "# 5. Save each non-empty segment into a CSV file."
   ]
  }
 ],
 "metadata": {
  "kernelspec": {
   "display_name": "Python 2",
   "language": "python",
   "name": "python2"
  },
  "language_info": {
   "codemirror_mode": {
    "name": "ipython",
    "version": 2
   },
   "file_extension": ".py",
   "mimetype": "text/x-python",
   "name": "python",
   "nbconvert_exporter": "python",
   "pygments_lexer": "ipython2",
   "version": "2.7.13"
  }
 },
 "nbformat": 4,
 "nbformat_minor": 2
}

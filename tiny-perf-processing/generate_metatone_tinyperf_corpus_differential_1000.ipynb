{
 "cells": [
  {
   "cell_type": "markdown",
   "metadata": {},
   "source": [
    "# Performance to Tiny Performance Format - Differential\n",
    "\n",
    "The purpose of this script is to break down all the metatone touch-data into a long Tiny Touchscreen Performance array. Each performance is split per player, cleaned into `[dx,dy,moving,time,dt]` columns and then concatenated to produce a very long array. This is stored in `h5` format for later use in training ANNs.\n",
    "\n",
    "This script uses x, y values in [0,1000] and t values in ms.\n",
    "\n",
    "Verdict - doesn't really help!"
   ]
  },
  {
   "cell_type": "code",
   "execution_count": 3,
   "metadata": {},
   "outputs": [],
   "source": [
    "from __future__ import print_function\n",
    "import os\n",
    "import time\n",
    "from datetime import timedelta\n",
    "import pandas as pd\n",
    "import numpy as np\n",
    "import random\n",
    "import h5py"
   ]
  },
  {
   "cell_type": "markdown",
   "metadata": {},
   "source": [
    "### Load up data\n",
    "\n",
    "- Loads metatone logs.\n",
    "- Checks if output directory exists, otherwise creates it."
   ]
  },
  {
   "cell_type": "code",
   "execution_count": 4,
   "metadata": {},
   "outputs": [
    {
     "name": "stdout",
     "output_type": "stream",
     "text": [
      "Loading all the frames.\n",
      "Done Loading 163 logs.\n"
     ]
    }
   ],
   "source": [
    "log_files = []\n",
    "log_frames = []\n",
    "\n",
    "for local_file in os.listdir(\"../data\"):\n",
    "    if local_file.endswith(\"-touches.csv\"):\n",
    "        log_files.append(\"../data/\" + local_file)\n",
    "\n",
    "print(\"Loading all the frames.\")\n",
    "for log in log_files:\n",
    "    log_frames.append(pd.DataFrame.from_csv(log,parse_dates=True,header=0))\n",
    "print(\"Done Loading\", len(log_frames), \"logs.\")"
   ]
  },
  {
   "cell_type": "markdown",
   "metadata": {},
   "source": [
    "# Process touch logs\n",
    "\n",
    "- Divide each touch log by performer\n",
    "- Convert each log to tiny performance format (time as float, x, y, moving)\n",
    "- Save each log individually (currently commented)\n",
    "- Concatenate all logs into one\n",
    "- Save as one big file in float32 format.\n",
    "- In h5 format the 4.3M touches end up around 52MB.\n",
    "\n",
    "### Problems\n",
    "\n",
    "- A small number of logs are in y,x format (rotated), so some x,y values end up less than 0 or more than 1.\n",
    "- Velocity is dropped in the interest of simplicity.\n",
    "- Some pauses are greater than 5 seconds and should really start again as zero.\n",
    "- The last two problems are kicked down the road to the next processing script.\n"
   ]
  },
  {
   "cell_type": "code",
   "execution_count": 5,
   "metadata": {
    "scrolled": true
   },
   "outputs": [
    {
     "name": "stdout",
     "output_type": "stream",
     "text": [
      "Dividing all performances by player and converting to tiny performance format.\n",
      "\n",
      "Processed 163 performances.\n",
      "There were 548 performers in total.\n",
      "Total touches recorded was: 4298418\n",
      "Now saving a big file with all performances concatenated.\n",
      "Done.\n",
      "Data looks something like this:\n",
      "                  x             y        moving            dt            dx  \\\n",
      "count  4.298418e+06  4.298418e+06  4.298418e+06  4.298418e+06  4.298418e+06   \n",
      "mean   4.976371e+02  5.115529e+02  9.120721e-01  4.144776e+01  6.109386e-02   \n",
      "std    2.349282e+02  2.473850e+02  2.831901e-01  2.099729e+02  1.571173e+02   \n",
      "min    0.000000e+00  0.000000e+00  0.000000e+00  5.100000e-02 -1.000000e+03   \n",
      "25%    3.271484e+02  3.248698e+02  1.000000e+00  8.463000e+00 -9.277344e+00   \n",
      "50%    4.892578e+02  5.019531e+02  1.000000e+00  1.616600e+01  0.000000e+00   \n",
      "75%    6.611328e+02  6.829427e+02  1.000000e+00  2.026100e+01  8.789062e+00   \n",
      "max    1.000000e+03  1.000000e+03  1.000000e+00  5.000000e+03  1.000000e+03   \n",
      "\n",
      "                 dy  \n",
      "count  4.298418e+06  \n",
      "mean   6.566415e-02  \n",
      "std    1.331150e+02  \n",
      "min   -1.326823e+03  \n",
      "25%   -1.106771e+01  \n",
      "50%    0.000000e+00  \n",
      "75%    1.106771e+01  \n",
      "max    1.326823e+03  \n"
     ]
    }
   ],
   "source": [
    "def clean_sound_object(frame):\n",
    "    \"\"\"Cleans up sound object frames by removing unneeded \n",
    "        columns and changing times to differences.\"\"\"\n",
    "    first_time = frame.index[0].to_pydatetime()\n",
    "    output = frame[['x_pos','y_pos','velocity']]\n",
    "    output['time'] = output.index\n",
    "    output.velocity = output.velocity/output.velocity\n",
    "    output.velocity = output.velocity.fillna(0)\n",
    "    output.x_pos = output.x_pos * 1000.0/1024.0 # convert to [0,1000]\n",
    "    output.y_pos = output.y_pos * 1000.0/768.0 # convert to [0,1000]\n",
    "    output.time = (output.time - first_time).apply(timedelta.total_seconds)\n",
    "    output['dt'] = output.time.diff() * 1000.0 # time diff, convert to ms\n",
    "    output.time = output.time.fillna(0) # give a decent value for gaps\n",
    "    output.dt = output.dt.fillna(1000)\n",
    "    output['dx'] = output.x_pos.diff()\n",
    "    output.dx = output.dx.fillna(500)\n",
    "    output['dy'] = output.y_pos.diff()\n",
    "    output.dy = output.dy.fillna(500)\n",
    "    output = output.rename(columns={'x_pos': 'x', 'y_pos': 'y', 'velocity': 'moving', 'time': 'time', 'dx': 'dx', 'dy': 'dy', 'dt': 'dt'})\n",
    "    return output\n",
    "\n",
    "total_touches = 0\n",
    "total_performances = 0\n",
    "total_performers = 0\n",
    "individual_tiny_perfs = []\n",
    "\n",
    "print(\"Dividing all performances by player and converting to tiny performance format.\")\n",
    "\n",
    "for log in log_frames:\n",
    "    total_performances += 1\n",
    "    for n in log.device_id.unique():\n",
    "        total_performers += 1\n",
    "        l = log[log.device_id == n]\n",
    "        individual_log_title = l.index[0].to_pydatetime().strftime(\"%Y-%m-%d-%H-%M-%S\")\n",
    "        individual_log_title += \"-\" + n\n",
    "        l = clean_sound_object(l)\n",
    "        l = l.set_index('time')\n",
    "        total_touches += l.x.count() # Add to total touches processed\n",
    "        #l.to_csv(output_directory + individual_log_title + output_fileending)\n",
    "        individual_tiny_perfs.append(l)\n",
    "                \n",
    "print()\n",
    "print(\"Processed\", total_performances, \"performances.\")\n",
    "print(\"There were\", total_performers, \"performers in total.\")\n",
    "print(\"Total touches recorded was:\", total_touches)\n",
    "print(\"Now saving a big file with all performances concatenated.\")\n",
    "total_perf_df = pd.concat(individual_tiny_perfs)\n",
    "# total_perf_df.to_csv(\"metatone_corpus_tiny_perf_format.csv\" # not saving to CSV anymore.\n",
    "\n",
    "xy_max = 1000 * 1.0\n",
    "dt_max = 1000 * 5.0\n",
    "\n",
    "# clip to x,y in [0,1]\n",
    "total_perf_df.set_value(total_perf_df[total_perf_df.x > xy_max].index, 'x', xy_max)\n",
    "total_perf_df.set_value(total_perf_df[total_perf_df.x < 0].index, 'x', 0.0)\n",
    "total_perf_df.set_value(total_perf_df[total_perf_df.y > xy_max].index, 'y', xy_max)\n",
    "total_perf_df.set_value(total_perf_df[total_perf_df.y < 0].index, 'y', 0.0)\n",
    "\n",
    "# could clip dt as well.\n",
    "total_perf_df.set_value(total_perf_df[total_perf_df.dt > dt_max].index, 'dt', dt_max)\n",
    "\n",
    "# make into one huge array\n",
    "total_perf_array = np.array(total_perf_df[['dx','dy','dt']])\n",
    "\n",
    "# save huge array in h5 format\n",
    "data_file_name = \"MetatoneDifferentialTinyPerfCorpus-1000.h5\"\n",
    "with h5py.File(data_file_name, 'w') as data_file:\n",
    "    dset = data_file.create_dataset('total_performances', data=total_perf_array, dtype='float32')\n",
    "\n",
    "# done.\n",
    "print(\"Done.\")\n",
    "print(\"Data looks something like this:\")\n",
    "print(total_perf_df.describe())"
   ]
  }
 ],
 "metadata": {
  "kernelspec": {
   "display_name": "Python 3",
   "language": "python",
   "name": "python3"
  },
  "language_info": {
   "codemirror_mode": {
    "name": "ipython",
    "version": 3
   },
   "file_extension": ".py",
   "mimetype": "text/x-python",
   "name": "python",
   "nbconvert_exporter": "python",
   "pygments_lexer": "ipython3",
   "version": "3.6.2"
  }
 },
 "nbformat": 4,
 "nbformat_minor": 2
}

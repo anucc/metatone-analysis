{
 "cells": [
  {
   "cell_type": "markdown",
   "metadata": {},
   "source": [
    "# Performance to Tiny Performance Format\n",
    "\n",
    "The purpose of this script is to break down all the metatone touch-data into a long Tiny Touchscreen Performance array. Each performance is split per player, cleaned into `[x,y,moving,time,dt]` columns and then concatenated to produce a very long array. This is stored in `h5` format for later use in training ANNs.\n",
    "\n",
    "TODO: \n",
    "need to change to:\n",
    "\n",
    "    raw:      x,  y,  dt,  m\n",
    "    diff: or: dx, dy, dt,  m\n"
   ]
  },
  {
   "cell_type": "code",
   "execution_count": null,
   "metadata": {},
   "outputs": [],
   "source": [
    "from __future__ import print_function\n",
    "import os\n",
    "import time\n",
    "from datetime import timedelta\n",
    "import pandas as pd\n",
    "import numpy as np\n",
    "import random\n",
    "import h5py"
   ]
  },
  {
   "cell_type": "markdown",
   "metadata": {},
   "source": [
    "### Load up data\n",
    "\n",
    "- Loads metatone logs.\n",
    "- Checks if output directory exists, otherwise creates it."
   ]
  },
  {
   "cell_type": "code",
   "execution_count": null,
   "metadata": {},
   "outputs": [],
   "source": [
    "log_files = []\n",
    "log_frames = []\n",
    "\n",
    "for local_file in os.listdir(\"../data\"):\n",
    "    if local_file.endswith(\"-touches.csv\"):\n",
    "        log_files.append(\"../data/\" + local_file)\n",
    "\n",
    "print(\"Loading all the frames.\")\n",
    "for log in log_files:\n",
    "    log_frames.append(pd.read_csv(log, parse_dates=True, header=0, index_col=0))\n",
    "print(\"Done Loading\", len(log_frames), \"logs.\")"
   ]
  },
  {
   "cell_type": "code",
   "execution_count": null,
   "metadata": {},
   "outputs": [],
   "source": [
    "lengths = []\n",
    "\n",
    "# Calculate performance lengths.\n",
    "for l in log_frames:\n",
    "    lengths.append(timedelta.total_seconds(l.index[-1] - l.index[0]))\n",
    "\n",
    "print(\"Total length of corpus:\")\n",
    "print(np.sum(lengths) / 3600, \"hours\")\n",
    "print(\"Median performance length\")\n",
    "print(np.median(lengths)/60, \"minutes\")\n",
    "\n",
    "df = pd.DataFrame({\"length\":lengths})\n",
    "df.length = df.length/60.\n",
    "df.describe()\n"
   ]
  },
  {
   "cell_type": "code",
   "execution_count": null,
   "metadata": {},
   "outputs": [],
   "source": [
    "# log_frames[0]"
   ]
  },
  {
   "cell_type": "markdown",
   "metadata": {},
   "source": [
    "# Process touch logs\n",
    "\n",
    "- Divide each touch log by performer\n",
    "- Convert each log to tiny performance format (time as float, x, y, moving)\n",
    "- Save each log individually (currently commented)\n",
    "- Concatenate all logs into one\n",
    "- Save as one big file in float32 format.\n",
    "- In h5 format the 4.3M touches end up around 52MB.\n",
    "\n",
    "### Problems\n",
    "\n",
    "- A small number of logs are in y,x format (rotated), so some x,y values end up less than 0 or more than 1.\n",
    "- Velocity is dropped in the interest of simplicity.\n",
    "- Some pauses are greater than 5 seconds and should really start again as zero.\n",
    "- The last two problems are kicked down the road to the next processing script.\n"
   ]
  },
  {
   "cell_type": "code",
   "execution_count": null,
   "metadata": {
    "scrolled": true
   },
   "outputs": [],
   "source": [
    "def clean_sound_object(frame):\n",
    "    \"\"\"Cleans up sound object frames by removing unneeded \n",
    "        columns and changing times to differences.\"\"\"\n",
    "    first_time = frame.index[0].to_pydatetime()\n",
    "    output = frame[['x_pos','y_pos','velocity']]\n",
    "    output['time'] = output.index\n",
    "    output.velocity = output.velocity/output.velocity\n",
    "    output.velocity = output.velocity.fillna(0)\n",
    "    output.x_pos = output.x_pos/1024.0\n",
    "    output.y_pos = output.y_pos/768.0\n",
    "    output.time = (output.time - first_time).apply(timedelta.total_seconds)\n",
    "    output.time = output.time.fillna(0)\n",
    "    #\n",
    "    # clip to x,y in [0,1]\n",
    "    output.x_pos = output.x_pos.clip(lower=0.0, upper=1.0)\n",
    "    output.y_pos = output.y_pos.clip(lower=0.0, upper=1.0)\n",
    "    \n",
    "    #\n",
    "    output['dt'] = output.time.diff() # time diff.\n",
    "    output.dt = output.dt.fillna(0)\n",
    "    output.dt = output.dt.clip(lower=0.0, upper=5.0)\n",
    "    #\n",
    "    output['dx'] = output.x_pos.diff()\n",
    "    output.dx = output.dx.fillna(0)\n",
    "    #\n",
    "    output['dy'] = output.y_pos.diff()\n",
    "    output.dy = output.dy.fillna(0)\n",
    "    #\n",
    "    output = output.rename(columns={'x_pos': 'x', 'y_pos': 'y', 'velocity': 'moving', 'time': 'time', 'dt': 'dt', 'dx': 'dx', 'dy': 'dy'})\n",
    "    return output\n",
    "\n",
    "total_touches = 0\n",
    "total_performances = 0\n",
    "total_performers = 0\n",
    "individual_tiny_perfs = []\n",
    "\n",
    "print(\"Dividing all performances by player and converting to tiny performance format.\")\n",
    "\n",
    "for log in log_frames:\n",
    "    total_performances += 1\n",
    "    for n in log.device_id.unique():\n",
    "        total_performers += 1\n",
    "        l = log[log.device_id == n]\n",
    "        individual_log_title = l.index[0].to_pydatetime().strftime(\"%Y-%m-%d-%H-%M-%S\")\n",
    "        individual_log_title += \"-\" + n\n",
    "        l = clean_sound_object(l)\n",
    "        l = l.set_index('time')\n",
    "        total_touches += l.x.count() # Add to total touches processed\n",
    "        #l.to_csv(output_directory + individual_log_title + output_fileending)\n",
    "        individual_tiny_perfs.append(l)\n",
    "                \n",
    "print()\n",
    "print(\"Processed\", total_performances, \"performances.\")\n",
    "print(\"There were\", total_performers, \"performers in total.\")\n",
    "print(\"Total touches recorded was:\", total_touches)\n"
   ]
  },
  {
   "cell_type": "code",
   "execution_count": null,
   "metadata": {},
   "outputs": [],
   "source": [
    "individual_tiny_perfs[0].describe()"
   ]
  },
  {
   "cell_type": "code",
   "execution_count": null,
   "metadata": {},
   "outputs": [],
   "source": [
    "### Save Performance Data in a compressed numpy file.\n",
    "# Output format is:\n",
    "# raw:      x,  y,  dt,  m\n",
    "# diff: or: dx, dy, dt,  m\n",
    "\n",
    "raw_perfs = []\n",
    "diff_perfs = []\n",
    "acc = 0\n",
    "\n",
    "for l in individual_tiny_perfs:\n",
    "    acc += l.shape[0] * l.shape[1]\n",
    "    raw = np.array(l[['x', 'y', 'dt', 'moving']]).astype('float32') # x, y, dt, m\n",
    "    diff = np.array(l[['dx', 'dy', 'dt', 'moving']]).astype('float32') # dx, dy, dt, m\n",
    "    raw_perfs.append(raw)\n",
    "    diff_perfs.append(diff)\n",
    "\n",
    "print(\"total number of recs:\",acc)\n",
    "print(\"total number of perfs in raw array:\", len(raw_perfs))\n",
    "print(\"total number of perfs in diff array:\", len(diff_perfs))\n",
    "raw_perfs = np.array(raw_perfs)\n",
    "diff_perfs = np.array(raw_perfs)\n",
    "np.savez_compressed('./metatone_dataset.npz', raw_perfs=raw_perfs, diff_perfs=diff_perfs)\n",
    "print(\"done saving.\")"
   ]
  },
  {
   "cell_type": "code",
   "execution_count": null,
   "metadata": {},
   "outputs": [],
   "source": [
    "### Test Loading from the saved datafile.\n",
    "print(\"testing loading...\")\n",
    "with np.load('./metatone_dataset.npz') as loaded:\n",
    "    loaded_raw = loaded['raw_perfs']\n",
    "    loaded_diff = loaded['diff_perfs']\n",
    "    \n",
    "print(\"Loaded perfs:\", len(loaded_raw), \"and\", len(loaded_diff))\n",
    "print(loaded_raw[1][:5])"
   ]
  },
  {
   "cell_type": "code",
   "execution_count": null,
   "metadata": {},
   "outputs": [],
   "source": [
    "# Question: how many points are there in 5 seconds?\n",
    "\n",
    "5.0 / np.array([r.T[2].mean() for r in loaded_raw]).mean()\n",
    "\n",
    "# Answer: 69."
   ]
  },
  {
   "cell_type": "code",
   "execution_count": null,
   "metadata": {},
   "outputs": [],
   "source": [
    "# print(\"Now saving a big file with all performances concatenated.\")\n",
    "# total_perf_df = pd.concat(individual_tiny_perfs)\n",
    "# # total_perf_df.to_csv(\"metatone_corpus_tiny_perf_format.csv\" # not saving to CSV anymore.\n",
    "\n",
    "# # make into one huge array\n",
    "# total_perf_array = np.array(total_perf_df[['x','y','dt']])\n",
    "\n",
    "# # save huge array in h5 format\n",
    "# data_file_name = \"MetatoneTinyPerformanceRecords.h5\"\n",
    "# with h5py.File(data_file_name, 'w') as data_file:\n",
    "#     dset = data_file.create_dataset('total_performances', data=total_perf_array, dtype='float32')\n",
    "\n",
    "# # done.\n",
    "# print(\"Done.\")"
   ]
  }
 ],
 "metadata": {
  "kernelspec": {
   "display_name": "Python 3",
   "language": "python",
   "name": "python3"
  },
  "language_info": {
   "codemirror_mode": {
    "name": "ipython",
    "version": 3
   },
   "file_extension": ".py",
   "mimetype": "text/x-python",
   "name": "python",
   "nbconvert_exporter": "python",
   "pygments_lexer": "ipython3",
   "version": "3.6.5"
  }
 },
 "nbformat": 4,
 "nbformat_minor": 2
}

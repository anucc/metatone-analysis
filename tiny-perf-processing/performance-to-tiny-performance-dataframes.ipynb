{
 "cells": [
  {
   "cell_type": "markdown",
   "metadata": {},
   "source": [
    "# Performance to Tiny Performance Format\n",
    "\n",
    "The purpose of this script is to break down all the metatone touch-data into a long Tiny Touchscreen Performance array. Each performance is split per player, cleaned into `[x,y,moving,time,dt]` columns and then concatenated to produce a very long array. This is stored in `h5` format for later use in training ANNs."
   ]
  },
  {
   "cell_type": "code",
   "execution_count": 1,
   "metadata": {},
   "outputs": [],
   "source": [
    "from __future__ import print_function\n",
    "import os\n",
    "import time\n",
    "from datetime import timedelta\n",
    "import pandas as pd\n",
    "import numpy as np\n",
    "import random\n",
    "import h5py"
   ]
  },
  {
   "cell_type": "markdown",
   "metadata": {},
   "source": [
    "### Load up data\n",
    "\n",
    "- Loads metatone logs.\n",
    "- Checks if output directory exists, otherwise creates it."
   ]
  },
  {
   "cell_type": "code",
   "execution_count": 2,
   "metadata": {},
   "outputs": [
    {
     "name": "stdout",
     "output_type": "stream",
     "text": [
      "Loading all the frames.\n",
      "Done Loading 163 logs.\n"
     ]
    }
   ],
   "source": [
    "log_files = []\n",
    "log_frames = []\n",
    "\n",
    "for local_file in os.listdir(\"../data\"):\n",
    "    if local_file.endswith(\"-touches.csv\"):\n",
    "        log_files.append(\"../data/\" + local_file)\n",
    "\n",
    "print(\"Loading all the frames.\")\n",
    "for log in log_files:\n",
    "    log_frames.append(pd.DataFrame.from_csv(log,parse_dates=True,header=0))\n",
    "print(\"Done Loading\", len(log_frames), \"logs.\")"
   ]
  },
  {
   "cell_type": "code",
   "execution_count": 35,
   "metadata": {},
   "outputs": [
    {
     "name": "stdout",
     "output_type": "stream",
     "text": [
      "Total length of corpus:\n",
      "20.7342317189 hours\n",
      "Median performance length\n",
      "7.10905663333 minutes\n"
     ]
    },
    {
     "data": {
      "text/html": [
       "<div>\n",
       "<style>\n",
       "    .dataframe thead tr:only-child th {\n",
       "        text-align: right;\n",
       "    }\n",
       "\n",
       "    .dataframe thead th {\n",
       "        text-align: left;\n",
       "    }\n",
       "\n",
       "    .dataframe tbody tr th {\n",
       "        vertical-align: top;\n",
       "    }\n",
       "</style>\n",
       "<table border=\"1\" class=\"dataframe\">\n",
       "  <thead>\n",
       "    <tr style=\"text-align: right;\">\n",
       "      <th></th>\n",
       "      <th>length</th>\n",
       "    </tr>\n",
       "  </thead>\n",
       "  <tbody>\n",
       "    <tr>\n",
       "      <th>count</th>\n",
       "      <td>163.000000</td>\n",
       "    </tr>\n",
       "    <tr>\n",
       "      <th>mean</th>\n",
       "      <td>7.632233</td>\n",
       "    </tr>\n",
       "    <tr>\n",
       "      <th>std</th>\n",
       "      <td>5.060826</td>\n",
       "    </tr>\n",
       "    <tr>\n",
       "      <th>min</th>\n",
       "      <td>0.000035</td>\n",
       "    </tr>\n",
       "    <tr>\n",
       "      <th>25%</th>\n",
       "      <td>4.399071</td>\n",
       "    </tr>\n",
       "    <tr>\n",
       "      <th>50%</th>\n",
       "      <td>7.109057</td>\n",
       "    </tr>\n",
       "    <tr>\n",
       "      <th>75%</th>\n",
       "      <td>9.419563</td>\n",
       "    </tr>\n",
       "    <tr>\n",
       "      <th>max</th>\n",
       "      <td>26.003427</td>\n",
       "    </tr>\n",
       "  </tbody>\n",
       "</table>\n",
       "</div>"
      ],
      "text/plain": [
       "           length\n",
       "count  163.000000\n",
       "mean     7.632233\n",
       "std      5.060826\n",
       "min      0.000035\n",
       "25%      4.399071\n",
       "50%      7.109057\n",
       "75%      9.419563\n",
       "max     26.003427"
      ]
     },
     "execution_count": 35,
     "metadata": {},
     "output_type": "execute_result"
    }
   ],
   "source": [
    "lengths = []\n",
    "\n",
    "# Calculate performance lengths.\n",
    "for l in log_frames:\n",
    "    lengths.append(timedelta.total_seconds(l.index[-1] - l.index[0]))\n",
    "\n",
    "print(\"Total length of corpus:\")\n",
    "print(np.sum(lengths) / 3600, \"hours\")\n",
    "print(\"Median performance length\")\n",
    "print(np.median(lengths)/60, \"minutes\")\n",
    "\n",
    "df = pd.DataFrame({\"length\":lengths})\n",
    "df.length = df.length/60.\n",
    "df.describe()\n"
   ]
  },
  {
   "cell_type": "markdown",
   "metadata": {},
   "source": [
    "# Process touch logs\n",
    "\n",
    "- Divide each touch log by performer\n",
    "- Convert each log to tiny performance format (time as float, x, y, moving)\n",
    "- Save each log individually (currently commented)\n",
    "- Concatenate all logs into one\n",
    "- Save as one big file in float32 format.\n",
    "- In h5 format the 4.3M touches end up around 52MB.\n",
    "\n",
    "### Problems\n",
    "\n",
    "- A small number of logs are in y,x format (rotated), so some x,y values end up less than 0 or more than 1.\n",
    "- Velocity is dropped in the interest of simplicity.\n",
    "- Some pauses are greater than 5 seconds and should really start again as zero.\n",
    "- The last two problems are kicked down the road to the next processing script.\n"
   ]
  },
  {
   "cell_type": "code",
   "execution_count": 3,
   "metadata": {
    "scrolled": true
   },
   "outputs": [
    {
     "name": "stdout",
     "output_type": "stream",
     "text": [
      "Dividing all performances by player and converting to tiny performance format.\n",
      "\n",
      "Processed 163 performances.\n",
      "There were 548 performers in total.\n",
      "Total touches recorded was: 4298418\n",
      "Now saving a big file with all performances concatenated.\n",
      "Done.\n"
     ]
    }
   ],
   "source": [
    "def clean_sound_object(frame):\n",
    "    \"\"\"Cleans up sound object frames by removing unneeded \n",
    "        columns and changing times to differences.\"\"\"\n",
    "    first_time = frame.index[0].to_pydatetime()\n",
    "    output = frame[['x_pos','y_pos','velocity']]\n",
    "    output['time'] = output.index\n",
    "    output.velocity = output.velocity/output.velocity\n",
    "    output.velocity = output.velocity.fillna(0)\n",
    "    output.x_pos = output.x_pos/1024.0\n",
    "    output.y_pos = output.y_pos/768.0\n",
    "    output.time = (output.time - first_time).apply(timedelta.total_seconds)\n",
    "    output['dt'] = output.time.diff() # time diff.\n",
    "    output.time = output.time.fillna(0)\n",
    "    output.dt = output.dt.fillna(0)\n",
    "    output = output.rename(columns={'x_pos': 'x', 'y_pos': 'y', 'velocity': 'moving', 'time': 'time', 'dt': 'dt'})\n",
    "    return output\n",
    "\n",
    "total_touches = 0\n",
    "total_performances = 0\n",
    "total_performers = 0\n",
    "individual_tiny_perfs = []\n",
    "\n",
    "print(\"Dividing all performances by player and converting to tiny performance format.\")\n",
    "\n",
    "for log in log_frames:\n",
    "    total_performances += 1\n",
    "    for n in log.device_id.unique():\n",
    "        total_performers += 1\n",
    "        l = log[log.device_id == n]\n",
    "        individual_log_title = l.index[0].to_pydatetime().strftime(\"%Y-%m-%d-%H-%M-%S\")\n",
    "        individual_log_title += \"-\" + n\n",
    "        l = clean_sound_object(l)\n",
    "        l = l.set_index('time')\n",
    "        total_touches += l.x.count() # Add to total touches processed\n",
    "        #l.to_csv(output_directory + individual_log_title + output_fileending)\n",
    "        individual_tiny_perfs.append(l)\n",
    "                \n",
    "print()\n",
    "print(\"Processed\", total_performances, \"performances.\")\n",
    "print(\"There were\", total_performers, \"performers in total.\")\n",
    "print(\"Total touches recorded was:\", total_touches)\n",
    "print(\"Now saving a big file with all performances concatenated.\")\n",
    "total_perf_df = pd.concat(individual_tiny_perfs)\n",
    "# total_perf_df.to_csv(\"metatone_corpus_tiny_perf_format.csv\" # not saving to CSV anymore.\n",
    "\n",
    "# clip to x,y in [0,1]\n",
    "total_perf_df.set_value(total_perf_df[total_perf_df.x > 1].index, 'x', 1.0)\n",
    "total_perf_df.set_value(total_perf_df[total_perf_df.x < 0].index, 'x', 0.0)\n",
    "total_perf_df.set_value(total_perf_df[total_perf_df.y > 1].index, 'y', 1.0)\n",
    "total_perf_df.set_value(total_perf_df[total_perf_df.y < 0].index, 'y', 0.0)\n",
    "\n",
    "# could clip dt as well.\n",
    "total_perf_df.set_value(total_perf_df[total_perf_df.dt > 5.0].index, 'dt', 5.0)\n",
    "\n",
    "# make into one huge array\n",
    "total_perf_array = np.array(total_perf_df[['x','y','dt']])\n",
    "\n",
    "# save huge array in h5 format\n",
    "data_file_name = \"MetatoneTinyPerformanceRecords.h5\"\n",
    "with h5py.File(data_file_name, 'w') as data_file:\n",
    "    dset = data_file.create_dataset('total_performances', data=total_perf_array, dtype='float32')\n",
    "\n",
    "# done.\n",
    "print(\"Done.\")"
   ]
  }
 ],
 "metadata": {
  "kernelspec": {
   "display_name": "Python 3",
   "language": "python",
   "name": "python3"
  },
  "language_info": {
   "codemirror_mode": {
    "name": "ipython",
    "version": 3
   },
   "file_extension": ".py",
   "mimetype": "text/x-python",
   "name": "python",
   "nbconvert_exporter": "python",
   "pygments_lexer": "ipython3",
   "version": "3.6.2"
  }
 },
 "nbformat": 4,
 "nbformat_minor": 2
}

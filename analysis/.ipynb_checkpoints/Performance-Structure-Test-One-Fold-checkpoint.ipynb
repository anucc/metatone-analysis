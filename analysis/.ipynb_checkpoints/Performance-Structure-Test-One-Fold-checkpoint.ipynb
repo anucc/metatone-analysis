{
 "cells": [
  {
   "cell_type": "code",
   "execution_count": 1,
   "metadata": {},
   "outputs": [
    {
     "name": "stdout",
     "output_type": "stream",
     "text": [
      "### Loading Gesture Classifier.           ###\n",
      "### Classifier file successfully loaded.  ###\n"
     ]
    }
   ],
   "source": [
    "\"\"\"\n",
    "Loads all the performance data up and applys the one-fold structural test\n",
    "on 100 points thorugh each performance.\n",
    "\"\"\"\n",
    "%matplotlib inline\n",
    "from __future__ import print_function\n",
    "import os\n",
    "import time\n",
    "import pandas as pd\n",
    "import numpy as np\n",
    "import time\n",
    "import datetime\n",
    "import sys\n",
    "from metatone_post_hoc_analysis import *\n",
    "from transition_matrices import *\n",
    "import matplotlib.pyplot as plt\n",
    "plt.style.use('ggplot')"
   ]
  },
  {
   "cell_type": "code",
   "execution_count": null,
   "metadata": {},
   "outputs": [],
   "source": [
    "\"\"\"Load up all the performances and do some stats\"\"\"\n",
    "log_files = []\n",
    "performances = []\n",
    "for local_file in os.listdir(\"../data\"):\n",
    "    if local_file.endswith(\"-touches.csv\"):\n",
    "        log_files.append(\"../data/\" + local_file)\n",
    "print(\"Loading the performances.\")\n",
    "for log in log_files:\n",
    "    try:\n",
    "        performances.append(MetatoneTouchLog(log))\n",
    "    except:\n",
    "        print(\"Performance Analysis Failed for: \" + log)\n",
    "        raise\n",
    "print(\"Done.\")"
   ]
  },
  {
   "cell_type": "code",
   "execution_count": null,
   "metadata": {},
   "outputs": [],
   "source": [
    "NUMBER_OF_DIVISIONS = 20\n",
    "# Do the one fold division and test the difference in flux.\n",
    "# This is running on group flux.\n",
    "print(\"Doing the one fold tests.\")\n",
    "big_data = {}\n",
    "for perf in performances:\n",
    "    trans = perf.transitions\n",
    "    data = {}\n",
    "    for n in range(1,NUMBER_OF_DIVISIONS):\n",
    "        n_hund = n/float(NUMBER_OF_DIVISIONS)\n",
    "        a, b = one_fold_division(trans, n_hund, transition_sum)\n",
    "        a = transition_matrix_to_normal_transition_matrix(transition_sum(a))\n",
    "        b = transition_matrix_to_normal_transition_matrix(transition_sum(b))\n",
    "        a = flux_measure(a)\n",
    "        b = flux_measure(b)\n",
    "        data[n] = abs(a - b)\n",
    "    big_data[perf.performance_title] = data\n",
    "    print(\"Processed: \" + perf.performance_title, end='\\r')\n",
    "df = pd.DataFrame.from_dict(big_data)\n",
    "df.plot(kind='line', subplots=False, legend=False)\n",
    "#df.plot(kind='scatter', subplots=False, legend=False)"
   ]
  },
  {
   "cell_type": "code",
   "execution_count": null,
   "metadata": {},
   "outputs": [],
   "source": [
    "NUMBER_OF_DIVISIONS = 1000\n",
    "RANGE_TRIM = 0.15\n",
    "# Same test, just keep the max value from each performance\n",
    "# Plot is a bit boring here as well.\n",
    "# Max values bunched up at each edge...\n",
    "print(\"Doing the one fold tests.\")\n",
    "big_data = {}\n",
    "for perf in performances:\n",
    "    trans = perf.transitions\n",
    "    data = {}\n",
    "    # Cut off the first and last 10%\n",
    "    range_start = 0 + RANGE_TRIM\n",
    "    range_length = 1 - (2 * RANGE_TRIM)\n",
    "    for n in range(0,NUMBER_OF_DIVISIONS):\n",
    "        n_hund = range_start + (range_length * n / float(NUMBER_OF_DIVISIONS))\n",
    "        a, b = one_fold_division(trans, n_hund, transition_sum)\n",
    "        a = transition_matrix_to_normal_transition_matrix(transition_sum(a))\n",
    "        b = transition_matrix_to_normal_transition_matrix(transition_sum(b))\n",
    "        a = flux_measure(a)\n",
    "        b = flux_measure(b)\n",
    "        data[n_hund] = abs(a - b)\n",
    "    d = pd.DataFrame.from_dict(data, orient='index')[0]\n",
    "    big_data[perf.performance_title] = {'proportion': d.idxmax(), 'max': d.max()}\n",
    "    print(\"Processed: \" + perf.performance_title, end='\\r')\n",
    "df = pd.DataFrame.from_dict(big_data, orient='index')\n",
    "df.plot(kind='scatter', x='proportion', y='max')"
   ]
  }
 ],
 "metadata": {
  "kernelspec": {
   "display_name": "Python 3",
   "language": "python",
   "name": "python3"
  },
  "language_info": {
   "codemirror_mode": {
    "name": "ipython",
    "version": 3
   },
   "file_extension": ".py",
   "mimetype": "text/x-python",
   "name": "python",
   "nbconvert_exporter": "python",
   "pygments_lexer": "ipython3",
   "version": "3.6.2"
  }
 },
 "nbformat": 4,
 "nbformat_minor": 2
}
